{
  "nbformat": 4,
  "nbformat_minor": 0,
  "metadata": {
    "colab": {
      "provenance": [],
      "authorship_tag": "ABX9TyNWsKafU4S3aVEMe5hl1EdC",
      "include_colab_link": true
    },
    "kernelspec": {
      "name": "python3",
      "display_name": "Python 3"
    },
    "language_info": {
      "name": "python"
    }
  },
  "cells": [
    {
      "cell_type": "markdown",
      "metadata": {
        "id": "view-in-github",
        "colab_type": "text"
      },
      "source": [
        "<a href=\"https://colab.research.google.com/github/pwrose/neo4j-yfiles/blob/main/Neo4j_Example1.ipynb\" target=\"_parent\"><img src=\"https://colab.research.google.com/assets/colab-badge.svg\" alt=\"Open In Colab\"/></a>"
      ]
    },
    {
      "cell_type": "code",
      "execution_count": 1,
      "metadata": {
        "colab": {
          "base_uri": "https://localhost:8080/"
        },
        "id": "v4wioVnvfCNY",
        "outputId": "779997a2-0a63-4cb1-f380-f892fd56e96e"
      },
      "outputs": [
        {
          "output_type": "stream",
          "name": "stdout",
          "text": [
            "Reading package lists... Done\n",
            "Building dependency tree... Done\n",
            "Reading state information... Done\n",
            "openjdk-17-jdk is already the newest version (17.0.9+9-1~22.04).\n",
            "0 upgraded, 0 newly installed, 0 to remove and 24 not upgraded.\n"
          ]
        }
      ],
      "source": [
        "%pip install yfiles_jupyter_graphs --quiet\n",
        "try:\n",
        "  import google.colab\n",
        "  from google.colab import output\n",
        "  output.enable_custom_widget_manager()\n",
        "  !apt install openjdk-17-jdk\n",
        "\n",
        "except:\n",
        "  pass"
      ]
    },
    {
      "cell_type": "code",
      "source": [
        "!git clone https://github.com/pwrose/neo4j-yfiles.git"
      ],
      "metadata": {
        "colab": {
          "base_uri": "https://localhost:8080/"
        },
        "id": "esnN95eymSec",
        "outputId": "5e404015-d7c6-41b2-db5b-6c897a2ed81b"
      },
      "execution_count": 2,
      "outputs": [
        {
          "output_type": "stream",
          "name": "stdout",
          "text": [
            "fatal: destination path 'neo4j-yfiles' already exists and is not an empty directory.\n"
          ]
        }
      ]
    },
    {
      "cell_type": "code",
      "source": [
        "!wget https://raw.githubusercontent.com/pwrose/neo4j-ipycytoscape/master/notebooks/neo4j_utils.py"
      ],
      "metadata": {
        "colab": {
          "base_uri": "https://localhost:8080/"
        },
        "id": "n-1G56-cmZWU",
        "outputId": "a7fe8d3c-8e7e-4658-fcee-0202d9326457"
      },
      "execution_count": 3,
      "outputs": [
        {
          "output_type": "stream",
          "name": "stdout",
          "text": [
            "--2024-01-05 08:18:53--  https://raw.githubusercontent.com/pwrose/neo4j-ipycytoscape/master/notebooks/neo4j_utils.py\n",
            "Resolving raw.githubusercontent.com (raw.githubusercontent.com)... 185.199.109.133, 185.199.110.133, 185.199.108.133, ...\n",
            "Connecting to raw.githubusercontent.com (raw.githubusercontent.com)|185.199.109.133|:443... connected.\n",
            "HTTP request sent, awaiting response... 200 OK\n",
            "Length: 2991 (2.9K) [text/plain]\n",
            "Saving to: ‘neo4j_utils.py.1’\n",
            "\n",
            "neo4j_utils.py.1    100%[===================>]   2.92K  --.-KB/s    in 0s      \n",
            "\n",
            "2024-01-05 08:18:53 (42.2 MB/s) - ‘neo4j_utils.py.1’ saved [2991/2991]\n",
            "\n"
          ]
        }
      ]
    },
    {
      "cell_type": "code",
      "source": [
        "%pip install py2neo\n",
        "%pip install python-dotenv"
      ],
      "metadata": {
        "colab": {
          "base_uri": "https://localhost:8080/"
        },
        "id": "d3moqdVtlybV",
        "outputId": "a038ab9b-e54b-43cc-80c4-f09fbf684549"
      },
      "execution_count": 4,
      "outputs": [
        {
          "output_type": "stream",
          "name": "stdout",
          "text": [
            "Requirement already satisfied: py2neo in /usr/local/lib/python3.10/dist-packages (2021.2.4)\n",
            "Requirement already satisfied: certifi in /usr/local/lib/python3.10/dist-packages (from py2neo) (2023.11.17)\n",
            "Requirement already satisfied: interchange~=2021.0.4 in /usr/local/lib/python3.10/dist-packages (from py2neo) (2021.0.4)\n",
            "Requirement already satisfied: monotonic in /usr/local/lib/python3.10/dist-packages (from py2neo) (1.6)\n",
            "Requirement already satisfied: packaging in /usr/local/lib/python3.10/dist-packages (from py2neo) (23.2)\n",
            "Requirement already satisfied: pansi>=2020.7.3 in /usr/local/lib/python3.10/dist-packages (from py2neo) (2020.7.3)\n",
            "Requirement already satisfied: pygments>=2.0.0 in /usr/local/lib/python3.10/dist-packages (from py2neo) (2.16.1)\n",
            "Requirement already satisfied: six>=1.15.0 in /usr/local/lib/python3.10/dist-packages (from py2neo) (1.16.0)\n",
            "Requirement already satisfied: urllib3 in /usr/local/lib/python3.10/dist-packages (from py2neo) (2.0.7)\n",
            "Requirement already satisfied: pytz in /usr/local/lib/python3.10/dist-packages (from interchange~=2021.0.4->py2neo) (2023.3.post1)\n",
            "Requirement already satisfied: python-dotenv in /usr/local/lib/python3.10/dist-packages (1.0.0)\n"
          ]
        }
      ]
    },
    {
      "cell_type": "code",
      "source": [
        "import os\n",
        "from py2neo import Graph, Node, Relationship\n",
        "import neo4j_utils\n",
        "from dotenv import load_dotenv"
      ],
      "metadata": {
        "id": "PRxb0P1ql9Qt"
      },
      "execution_count": 5,
      "outputs": []
    },
    {
      "cell_type": "code",
      "source": [
        "load_dotenv(\"neo4j-yfiles/.env.colab\")"
      ],
      "metadata": {
        "colab": {
          "base_uri": "https://localhost:8080/"
        },
        "id": "TkmPG3lRh6sH",
        "outputId": "5b26461b-4231-404e-cd53-7d75a86ef6d5"
      },
      "execution_count": 6,
      "outputs": [
        {
          "output_type": "execute_result",
          "data": {
            "text/plain": [
              "True"
            ]
          },
          "metadata": {},
          "execution_count": 6
        }
      ]
    },
    {
      "cell_type": "code",
      "source": [
        "neo4j_utils.start()"
      ],
      "metadata": {
        "colab": {
          "base_uri": "https://localhost:8080/"
        },
        "id": "bQ_aRZ30kSkP",
        "outputId": "f6134d2e-ff07-46c0-e8cd-a85c9b528997"
      },
      "execution_count": 7,
      "outputs": [
        {
          "output_type": "stream",
          "name": "stdout",
          "text": [
            "Launching server.......... running.\n"
          ]
        }
      ]
    },
    {
      "cell_type": "code",
      "source": [
        "os.getenv(\"NEO4J_PASSWORD\")"
      ],
      "metadata": {
        "colab": {
          "base_uri": "https://localhost:8080/",
          "height": 35
        },
        "id": "Px6poXZIoTsW",
        "outputId": "bcc82f84-278e-497e-f713-ee85b1c4a880"
      },
      "execution_count": 8,
      "outputs": [
        {
          "output_type": "execute_result",
          "data": {
            "text/plain": [
              "'neo4jdemo'"
            ],
            "application/vnd.google.colaboratory.intrinsic+json": {
              "type": "string"
            }
          },
          "metadata": {},
          "execution_count": 8
        }
      ]
    },
    {
      "cell_type": "code",
      "source": [
        "graph = Graph(password=os.getenv(\"NEO4J_PASSWORD\"))"
      ],
      "metadata": {
        "id": "8KLJAdvPlk2Q"
      },
      "execution_count": 9,
      "outputs": []
    },
    {
      "cell_type": "code",
      "source": [
        "# start with an empty graph\n",
        "graph.delete_all()"
      ],
      "metadata": {
        "id": "u6dHsmYhsgUe"
      },
      "execution_count": 10,
      "outputs": []
    },
    {
      "cell_type": "code",
      "source": [
        "# This graph example is from https://github.com/nicolewhite/neo4j-jupyter\n",
        "nicole = Node(\"Person\", name=\"Nicole\", age=24)\n",
        "drew = Node(\"Person\", name=\"Drew\", age=20)\n",
        "\n",
        "mtdew = Node(\"Drink\", name=\"Mountain Dew\", calories=9000)\n",
        "cokezero = Node(\"Drink\", name=\"Coke Zero\", calories=0)\n",
        "\n",
        "coke = Node(\"Manufacturer\", name=\"Coca Cola\", url=\"https://www.coca-cola.com/\")\n",
        "pepsi = Node(\"Manufacturer\", name=\"Pepsi\", url=\"https://www.pepsi.com/\")"
      ],
      "metadata": {
        "id": "5BQRUv75sl96"
      },
      "execution_count": 11,
      "outputs": []
    },
    {
      "cell_type": "code",
      "source": [
        "graph.create(Relationship(nicole, \"LIKES\", cokezero))\n",
        "graph.create(Relationship(nicole, \"LIKES\", mtdew))\n",
        "graph.create(Relationship(drew, \"LIKES\", mtdew))\n",
        "graph.create(Relationship(pepsi, \"MAKES\", mtdew))\n",
        "graph.create(Relationship(coke, \"MAKES\", cokezero))"
      ],
      "metadata": {
        "id": "oea6BHt8svLr"
      },
      "execution_count": 13,
      "outputs": []
    },
    {
      "cell_type": "code",
      "source": [
        "query = \"\"\"\n",
        "MATCH p=()-[]->() RETURN p\n",
        "\"\"\""
      ],
      "metadata": {
        "id": "rNaH0gBhs2Ha"
      },
      "execution_count": 14,
      "outputs": []
    },
    {
      "cell_type": "code",
      "source": [
        "graph.run(query).to_subgraph()"
      ],
      "metadata": {
        "id": "CXJq40jds6kv",
        "outputId": "4728865f-6bb2-43f7-9362-641a97d5439d",
        "colab": {
          "base_uri": "https://localhost:8080/"
        }
      },
      "execution_count": 15,
      "outputs": [
        {
          "output_type": "execute_result",
          "data": {
            "text/plain": [
              "Subgraph({Node('Person', age=24, name='Nicole'), Node('Person', age=24, name='Nicole'), Node('Person', age=24, name='Nicole'), Node('Manufacturer', name='Pepsi', url='https://www.pepsi.com/'), Node('Person', age=20, name='Drew'), Node('Drink', calories=9000, name='Mountain Dew'), Node('Drink', calories=0, name='Coke Zero'), Node('Manufacturer', name='Coca Cola', url='https://www.coca-cola.com/'), Node('Person', age=24, name='Nicole')}, {LIKES(Node('Person', age=24, name='Nicole'), Node('Drink', calories=0, name='Coke Zero')), MAKES(Node('Manufacturer', name='Coca Cola', url='https://www.coca-cola.com/'), Node('Drink', calories=0, name='Coke Zero')), LIKES(Node('Person', age=24, name='Nicole'), Node('Drink', calories=9000, name='Mountain Dew')), LIKES(Node('Person', age=20, name='Drew'), Node('Drink', calories=9000, name='Mountain Dew')), MAKES(Node('Manufacturer', name='Pepsi', url='https://www.pepsi.com/'), Node('Drink', calories=9000, name='Mountain Dew'))})"
            ]
          },
          "metadata": {},
          "execution_count": 15
        }
      ]
    },
    {
      "cell_type": "code",
      "source": [
        "neo4j_utils.stop()"
      ],
      "metadata": {
        "id": "nPtLssHBobQs"
      },
      "execution_count": 16,
      "outputs": []
    }
  ]
}