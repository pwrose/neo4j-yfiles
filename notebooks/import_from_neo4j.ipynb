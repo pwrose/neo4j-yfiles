{
 "cells": [
  {
   "cell_type": "code",
   "execution_count": 1,
   "id": "e63aeede-16ab-45e2-bc39-8e1702cd06c7",
   "metadata": {},
   "outputs": [
    {
     "name": "stdout",
     "output_type": "stream",
     "text": [
      "Note: you may need to restart the kernel to use updated packages.\n"
     ]
    }
   ],
   "source": [
    "%pip install yfiles_jupyter_graphs --quiet\n",
    "try:\n",
    "  import google.colab\n",
    "  from google.colab import output\n",
    "  output.enable_custom_widget_manager()\n",
    "except:\n",
    "  pass"
   ]
  },
  {
   "cell_type": "code",
   "execution_count": 2,
   "id": "80c3450b-2295-4725-b4af-611a3d700efb",
   "metadata": {},
   "outputs": [
    {
     "name": "stdout",
     "output_type": "stream",
     "text": [
      "Note: you may need to restart the kernel to use updated packages.\n"
     ]
    }
   ],
   "source": [
    "%pip install neo4j --quiet"
   ]
  },
  {
   "cell_type": "code",
   "execution_count": 5,
   "id": "162b9c7d",
   "metadata": {},
   "outputs": [
    {
     "data": {
      "application/vnd.jupyter.widget-view+json": {
       "model_id": "6dc66a9e3b9848ba80246dfd77629f3f",
       "version_major": 2,
       "version_minor": 0
      },
      "text/plain": [
       "GraphWidget(layout=Layout(height='500px', width='100%'))"
      ]
     },
     "metadata": {},
     "output_type": "display_data"
    }
   ],
   "source": [
    "from neo4j import GraphDatabase\n",
    "DEMO_SERVER_URL = \"bolt://132.249.238.185:7687\"\n",
    "DEMO_SERVER_UN = \"reader\"\n",
    "DEMO_SERVER_PW = \"demo\"\n",
    "# uri      = \"neo4j+s://demo.neo4jlabs.com\" \n",
    "# user     = \"movies\"          # your user name \n",
    "#                               # default is always \"neo4j\" \n",
    "#                               # unless you have changed it. \n",
    "# password = \"movies\"\n",
    "\n",
    "driver = GraphDatabase.driver(uri=DEMO_SERVER_URL,auth=(DEMO_SERVER_UN,DEMO_SERVER_PW),database=\"dsc\")\n",
    "session = driver.session(database='dsc')\n",
    "\n",
    "query1 = \"\"\"\n",
    "MATCH p=(:City{name:'San Francisco'})-[:IN*]->(:World) RETURN p\n",
    "\"\"\"\n",
    "#result = session.run(\"MATCH (s)-[r]->(t) RETURN s,r,t LIMIT 20\")\n",
    "result = session.run(query1)\n",
    "\n",
    "from yfiles_jupyter_graphs import GraphWidget\n",
    "\n",
    "w = GraphWidget(graph = result.graph())\n",
    "\n",
    "w.show()"
   ]
  },
  {
   "cell_type": "code",
   "execution_count": 4,
   "id": "e9e6613e",
   "metadata": {},
   "outputs": [
    {
     "data": {
      "application/vnd.jupyter.widget-view+json": {
       "model_id": "053d4a9c93dc414aa33dd745f9129648",
       "version_major": 2,
       "version_minor": 0
      },
      "text/plain": [
       "GraphWidget(layout=Layout(height='500px', width='100%'))"
      ]
     },
     "metadata": {},
     "output_type": "display_data"
    }
   ],
   "source": [
    "w2 = GraphWidget(graph = result.graph())\n",
    "\n",
    "def custom_node_label_mapping(index, node):\n",
    "    \"\"\"let the label be the negated index\"\"\"\n",
    "    properties = node.get('properties', {})\n",
    "    return properties.get('title', properties.get('name', 'no label'));\n",
    "w2.node_label_mapping = custom_node_label_mapping\n",
    "\n",
    "def custom_relationship_label_mapping(index, node):\n",
    "    \"\"\"let the label be the negated index\"\"\"\n",
    "    properties = node.get('properties', {})\n",
    "    return properties.get('roles', ['no role'])[0];\n",
    "w2.edge_label_mapping = custom_relationship_label_mapping\n",
    "\n",
    "w2.hierarchic_layout()\n",
    "w2.show()"
   ]
  },
  {
   "cell_type": "code",
   "execution_count": null,
   "id": "233d41db-ac0f-4078-a1ae-6386a8cb88f4",
   "metadata": {},
   "outputs": [],
   "source": []
  }
 ],
 "metadata": {
  "kernelspec": {
   "display_name": "Python 3 (ipykernel)",
   "language": "python",
   "name": "python3"
  },
  "language_info": {
   "codemirror_mode": {
    "name": "ipython",
    "version": 3
   },
   "file_extension": ".py",
   "mimetype": "text/x-python",
   "name": "python",
   "nbconvert_exporter": "python",
   "pygments_lexer": "ipython3",
   "version": "3.10.13"
  }
 },
 "nbformat": 4,
 "nbformat_minor": 5
}
